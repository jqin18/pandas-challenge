{
 "cells": [
  {
   "cell_type": "code",
   "execution_count": 58,
   "id": "35aeb537-cad2-4402-a7eb-04fdcffeb3b4",
   "metadata": {},
   "outputs": [
    {
     "name": "stdout",
     "output_type": "stream",
     "text": [
      "   Number of Unique Items Average Purchase Price  Total Number of Purchases Total Revenue\n",
      "0                     179                  $3.05                        780     $2,379.77\n"
     ]
    },
    {
     "data": {
      "text/html": [
       "<div>\n",
       "<style scoped>\n",
       "    .dataframe tbody tr th:only-of-type {\n",
       "        vertical-align: middle;\n",
       "    }\n",
       "\n",
       "    .dataframe tbody tr th {\n",
       "        vertical-align: top;\n",
       "    }\n",
       "\n",
       "    .dataframe thead th {\n",
       "        text-align: right;\n",
       "    }\n",
       "</style>\n",
       "<table border=\"1\" class=\"dataframe\">\n",
       "  <thead>\n",
       "    <tr style=\"text-align: right;\">\n",
       "      <th></th>\n",
       "      <th>Total Count</th>\n",
       "      <th>Percentage of Players</th>\n",
       "    </tr>\n",
       "  </thead>\n",
       "  <tbody>\n",
       "    <tr>\n",
       "      <th>Male</th>\n",
       "      <td>484</td>\n",
       "      <td>84.03%</td>\n",
       "    </tr>\n",
       "    <tr>\n",
       "      <th>Female</th>\n",
       "      <td>81</td>\n",
       "      <td>14.06%</td>\n",
       "    </tr>\n",
       "    <tr>\n",
       "      <th>Other / Non-Disclosed</th>\n",
       "      <td>11</td>\n",
       "      <td>1.91%</td>\n",
       "    </tr>\n",
       "  </tbody>\n",
       "</table>\n",
       "</div>"
      ],
      "text/plain": [
       "                       Total Count Percentage of Players\n",
       "Male                           484                84.03%\n",
       "Female                          81                14.06%\n",
       "Other / Non-Disclosed           11                 1.91%"
      ]
     },
     "execution_count": 58,
     "metadata": {},
     "output_type": "execute_result"
    }
   ],
   "source": [
    "# Dependencies and Setup\n",
    "import pandas as pd\n",
    "\n",
    "# File to Load (Remember to Change These)\n",
    "file_to_load = \"Resources/purchase_data.csv\"\n",
    "\n",
    "# Read Purchasing File and store into Pandas data frame\n",
    "purchase_data = pd.read_csv(file_to_load)\n",
    "\n",
    "player_count = len(purchase_data[\"SN\"].unique())\n",
    "player_count = pd.DataFrame({\"Total number of players\": [player_count]})\n",
    "player_count\n",
    "\n",
    "unique_items = len(purchase_data[\"Item Name\"].unique())\n",
    "average_price = round(purchase_data[\"Price\"].mean(),2)\n",
    "total_purchase_number = len(purchase_data[\"Purchase ID\"])\n",
    "total_revenue = round(purchase_data[\"Price\"].sum(),2)\n",
    "\n",
    "purchasing_analysis = pd.DataFrame({\"Number of Unique Items\": [unique_items],\n",
    "                            \"Average Purchase Price\":  average_price,\n",
    "                            \"Total Number of Purchases\": total_purchase_number,\n",
    "                            \"Total Revenue\": total_revenue})\n",
    "\n",
    "print(purchasing_analysis.to_string(formatters={'Average Purchase Price':'${:,.2f}'.format,\n",
    "                                              'Total Revenue':'${:,.2f}'.format}))\n",
    "\n",
    "gender_data = purchase_data.drop_duplicates(subset=['SN'])\n",
    "gender_demo = gender_data[\"Gender\"].value_counts()\n",
    "num_players = gender_data.count()[0]\n",
    "percentage = (gender_demo/num_players).map(\"{:.2%}\".format)\n",
    "gender_demographics = pd.DataFrame({\"Total Count\": gender_demo,\"Percentage of Players\": percentage})\n",
    "gender_demographics"
   ]
  },
  {
   "cell_type": "code",
   "execution_count": 57,
   "id": "23554ad9-82fb-4b11-9e1b-55b876353c27",
   "metadata": {},
   "outputs": [
    {
     "ename": "SyntaxError",
     "evalue": "invalid syntax (<ipython-input-57-b2f371ab9de1>, line 3)",
     "output_type": "error",
     "traceback": [
      "\u001b[0;36m  File \u001b[0;32m\"<ipython-input-57-b2f371ab9de1>\"\u001b[0;36m, line \u001b[0;32m3\u001b[0m\n\u001b[0;31m    average_purchase = purchase_data[\"Price\"].mean()\u001b[0m\n\u001b[0m    ^\u001b[0m\n\u001b[0;31mSyntaxError\u001b[0m\u001b[0;31m:\u001b[0m invalid syntax\n"
     ]
    }
   ],
   "source": [
    "purchase_data = purchase_data.groupby('Gender')\n",
    "purchase_count = (purchase_data[\"Purchase ID\"].count()\n",
    "average_purchase = purchase_data[\"Price\"].mean()\n",
    "                  \n",
    "total_purchase = purchase_data[\"Price\"].sum()\n",
    "                  \n",
    "final_average = total_purchase/purchase_count\n",
    "                  "
   ]
  },
  {
   "cell_type": "code",
   "execution_count": null,
   "id": "0fd44190-62f5-407a-ba14-798f583462a5",
   "metadata": {},
   "outputs": [],
   "source": [
    "purchase_data = purchase_data.groupby('Gender')\n",
    "purchase_count = (purchase_data[\"Purchase ID\"].count()\n",
    "average_purchase = purchase_data[\"Price\"].mean()\n",
    "total_purchase = purchase_data[\"Price\"].sum()\n",
    "final_average = total_purchase/purchase_count"
   ]
  }
 ],
 "metadata": {
  "kernelspec": {
   "display_name": "Python 3",
   "language": "python",
   "name": "python3"
  },
  "language_info": {
   "codemirror_mode": {
    "name": "ipython",
    "version": 3
   },
   "file_extension": ".py",
   "mimetype": "text/x-python",
   "name": "python",
   "nbconvert_exporter": "python",
   "pygments_lexer": "ipython3",
   "version": "3.8.8"
  }
 },
 "nbformat": 4,
 "nbformat_minor": 5
}
